{
 "cells": [
  {
   "cell_type": "code",
   "execution_count": 12,
   "id": "6ac40ba2",
   "metadata": {},
   "outputs": [],
   "source": [
    "import os\n",
    "import openai\n",
    "import re\n",
    "import requests\n",
    "import json"
   ]
  },
  {
   "cell_type": "code",
   "execution_count": 2,
   "id": "db40dab2",
   "metadata": {},
   "outputs": [],
   "source": [
    "# Load your openai API key\n",
    "openai.api_key = os.getenv('OPENAI_API_KEY')"
   ]
  },
  {
   "cell_type": "code",
   "execution_count": 7,
   "id": "5c66fceb",
   "metadata": {},
   "outputs": [],
   "source": [
    "# Compile the regular expressions\n",
    "english_word_regex = re.compile(r\"English: (.*?)\\nGerman\")\n",
    "german_word_regex = re.compile(r\"\\nGerman: (.*?)\\nExample sentence\")\n",
    "english_example_regex = re.compile(r\"\\nExample sentence: (.*?)\\nTranslation\")\n",
    "german_example_regex = re.compile(r\"\\nTranslation: (.+)$\")"
   ]
  },
  {
   "cell_type": "code",
   "execution_count": 8,
   "id": "543dd8eb",
   "metadata": {},
   "outputs": [],
   "source": [
    "def create_english_german_flashcard(word):\n",
    "    \"\"\"\n",
    "    Creates an English-German flashcard.\n",
    "\n",
    "    :param word: English word or phrase to create a flashcard for.\n",
    "    :return: A tuple containing the front and back content of the flashcard.\n",
    "    :raises: Exception if the API call fails or the expected content is not found.\n",
    "    \"\"\"\n",
    "    content = f\"Create a single English-German index card for \\\"{word}\\\" with the translation of the word and one example sentence using the following structure: \\nEnglish: English word/phrase\\nGerman: German translation\\nExample sentence: English sentence \\nTranslation: German Sentence\"\n",
    "    \n",
    "    messages = [\n",
    "        {\"role\": \"system\", \"content\": \"You are a helpful assistant.\"},\n",
    "        {\"role\": \"user\", \"content\": content}\n",
    "    ]\n",
    "\n",
    "    try:\n",
    "        response = openai.ChatCompletion.create(\n",
    "            model=\"gpt-3.5-turbo\",\n",
    "            messages=messages,\n",
    "            temperature=0.7,\n",
    "            max_tokens=500\n",
    "        )\n",
    "    except Exception as e:\n",
    "        raise Exception(f\"Failed to create flashcard due to an API error: {str(e)}\")\n",
    "\n",
    "    generated_flashcards = response.get(\"choices\", [{}])[0].get(\"message\", {}).get(\"content\", \"\")\n",
    "\n",
    "    try:\n",
    "        english_word_match = english_word_regex.findall(generated_flashcards)[0]\n",
    "        german_word_match = german_word_regex.findall(generated_flashcards)[0]\n",
    "        english_example_match = english_example_regex.findall(generated_flashcards)[0]\n",
    "        german_example_match = german_example_regex.findall(generated_flashcards)[0]\n",
    "    except IndexError as e:\n",
    "        raise Exception(\"Failed to parse the flashcard content.\")\n",
    "\n",
    "    front = f\"English: {english_word_match}<div><br></div><div>Example sentence: {english_example_match}\"\n",
    "    back = f\"German: {german_word_match}<div><br></div><div>Example sentence: {german_example_match}\"\n",
    "\n",
    "    return front, back\n"
   ]
  },
  {
   "cell_type": "code",
   "execution_count": 13,
   "id": "d45d398d",
   "metadata": {},
   "outputs": [],
   "source": [
    "# Constants for the local Anki Wndows App API\n",
    "API_URL = 'http://localhost:8765'\n",
    "API_VERSION = 6"
   ]
  },
  {
   "cell_type": "code",
   "execution_count": 14,
   "id": "666575a1",
   "metadata": {},
   "outputs": [],
   "source": [
    "class APIError(Exception):\n",
    "    \"\"\"Custom exception class for API errors\"\"\"\n",
    "    pass\n",
    "\n",
    "def request(action, **params):\n",
    "    \"\"\"\n",
    "    Create a request dictionary with the given action and parameters.\n",
    "\n",
    "    :param action: The action to perform.\n",
    "    :param params: Additional parameters for the action.\n",
    "    :return: A dictionary representing the request.\n",
    "    \"\"\"\n",
    "    return {'action': action, 'params': params, 'version': API_VERSION}\n",
    "\n",
    "def invoke(action, **params):\n",
    "    \"\"\"\n",
    "    Send a request to the API and return the result.\n",
    "\n",
    "    :param action: The action to perform.\n",
    "    :param params: Additional parameters for the action.\n",
    "    :return: The result from the API.\n",
    "    :raises APIError: If the API response contains an error.\n",
    "    \"\"\"\n",
    "    request_json = json.dumps(request(action, **params)).encode('utf-8')\n",
    "    response = requests.post(API_URL, request_json)\n",
    "    response_json = response.json()\n",
    "\n",
    "    if not isinstance(response_json, dict) or 'error' not in response_json or 'result' not in response_json:\n",
    "        raise APIError('Response has an unexpected format or missing fields')\n",
    "\n",
    "    if response_json['error'] is not None:\n",
    "        raise APIError(response_json['error'])\n",
    "\n",
    "    return response_json['result']\n",
    "\n",
    "def add_note(deck, model, fields):\n",
    "    \"\"\"\n",
    "    Add a note to a deck with the specified model and fields.\n",
    "\n",
    "    :param deck: The name of the deck.\n",
    "    :param model: The name of the model.\n",
    "    :param fields: The fields for the note.\n",
    "    :return: The result from the API.\n",
    "    \"\"\"\n",
    "    note = {\n",
    "        'deckName': deck,\n",
    "        'modelName': model,\n",
    "        'fields': fields,\n",
    "        'options': {\n",
    "            'allowDuplicate': False\n",
    "        },\n",
    "        'tags': []\n",
    "    }\n",
    "    return invoke('addNote', note=note)\n"
   ]
  },
  {
   "cell_type": "code",
   "execution_count": 18,
   "id": "c024ece1",
   "metadata": {},
   "outputs": [],
   "source": [
    "# List of english words to which a flashcard should be created\n",
    "list_words = ['to dispatch',\n",
    "              'vast',\n",
    "              'the fate',\n",
    "              'incense',\n",
    "              'strummed',\n",
    "              'lute',\n",
    "              'to itch',\n",
    "              'a seal'\n",
    "              ]"
   ]
  },
  {
   "cell_type": "code",
   "execution_count": 17,
   "id": "a1a97785",
   "metadata": {},
   "outputs": [
    {
     "name": "stdout",
     "output_type": "stream",
     "text": [
      "English: to dispatch<div><br></div><div>Example sentence: The package was dispatched yesterday.\n",
      "Note added with id 1705765855680\n",
      "English: Vast<div><br></div><div>Example sentence: The vast ocean stretched out before us.\n",
      "Note added with id 1705765860781\n",
      "English: the fate<div><br></div><div>Example sentence: She believed in the power of fate to guide her life.\n",
      "Note added with id 1705765866403\n",
      "English: incense<div><br></div><div>Example sentence: I enjoy burning incense to create a relaxing atmosphere.\n",
      "Note added with id 1705765872387\n",
      "English: strummed<div><br></div><div>Example sentence: She strummed the guitar strings to create a soothing melody.\n",
      "Note added with id 1705765878894\n",
      "English: lute<div><br></div><div>Example sentence: He played the lute beautifully.\n",
      "Note added with id 1705765883805\n",
      "English: itch<div><br></div><div>Example sentence: My mosquito bite is starting to itch.\n",
      "Note added with id 1705765888570\n",
      "English: a seal<div><br></div><div>Example sentence: The seal was basking in the sun.\n",
      "Note added with id 1705765893009\n"
     ]
    }
   ],
   "source": [
    "for word in list_words:\n",
    "    front, back = create_card(word)\n",
    "    deck_name = 'English Advanced'\n",
    "    model_name = 'Basic (and reversed card)'\n",
    "    fields = {\n",
    "        'Front': front,\n",
    "        'Back': back\n",
    "    }\n",
    "    print(front)\n",
    "    result = add_note(deck_name, model_name, fields)\n",
    "    if result is None:\n",
    "        print('Note already exists')\n",
    "    else:\n",
    "        print('Note added with id', result)"
   ]
  }
 ],
 "metadata": {
  "kernelspec": {
   "display_name": "Python 3 (ipykernel)",
   "language": "python",
   "name": "python3"
  },
  "language_info": {
   "codemirror_mode": {
    "name": "ipython",
    "version": 3
   },
   "file_extension": ".py",
   "mimetype": "text/x-python",
   "name": "python",
   "nbconvert_exporter": "python",
   "pygments_lexer": "ipython3",
   "version": "3.9.7"
  }
 },
 "nbformat": 4,
 "nbformat_minor": 5
}
